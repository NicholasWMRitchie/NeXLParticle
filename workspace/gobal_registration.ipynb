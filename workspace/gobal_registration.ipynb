{
 "cells": [
  {
   "cell_type": "markdown",
   "metadata": {},
   "source": [
    "# Global Registration"
   ]
  },
  {
   "cell_type": "code",
   "execution_count": null,
   "metadata": {},
   "outputs": [],
   "source": [
    "using Random\n",
    "using DataFrames\n",
    "using CoordinateTransformations, Rotations\n",
    "using StaticArrays\n",
    "using Gadfly\n",
    "using Statistics\n",
    "using NearestNeighbors\n",
    "using LinearAlgebra\n",
    "using GeometryBasics\n",
    "using SpecialFunctions"
   ]
  },
  {
   "cell_type": "code",
   "execution_count": null,
   "metadata": {},
   "outputs": [],
   "source": [
    "r=MersenneTwister(0xBADFEED)\n",
    "npts=1000\n",
    "xy = SVector.(zip(rand(r,npts),rand(r,npts)))"
   ]
  },
  {
   "cell_type": "code",
   "execution_count": null,
   "metadata": {},
   "outputs": [],
   "source": [
    "function densitymap(data, rect, dims)\n",
    "    trf(pt, dims, rect) = ceil.(Int, dims .* ((pt .- rect.origin) ./ rect.widths))\n",
    "    f(x0,y0) = 0.25*(erf(x0/sqrt(2)) - erf(x1/sqrt(2)))*(erf(y0/sqrt(2)) - erf(y1/sqrt(2)))\n",
    "    m = zeros(Float32, dims)\n",
    "    for datum in data\n",
    "        pti = trf(datum, dims, rect)\n",
    "        if checkbounds(Bool, m, pti...)\n",
    "            @inbounds m[pti...]+=1.0f0\n",
    "        end\n",
    "    end\n",
    "    m\n",
    "end"
   ]
  },
  {
   "cell_type": "code",
   "execution_count": null,
   "metadata": {},
   "outputs": [],
   "source": [
    "densitymap(xy, Rect(0.25,0.25,0.5,0.5), (5,5))"
   ]
  },
  {
   "cell_type": "code",
   "execution_count": null,
   "metadata": {},
   "outputs": [],
   "source": [
    "r = Rect(0.25,0.25,0.5,0.5)\n",
    "widths = maximum(r)-minimum(r)\n",
    "center = 0.5*widths+minimum(r)\n",
    "fd = filter(pt->pt in r, xy)\n",
    "afm0=inv(AffineMap(Angle2d{Float32}(deg2rad(31.0)), center))\n",
    "fd0 = afm0.(fd)\n",
    "dm0=densitymap(fd0, Rect((-0.5*sqrt(2)*widths)..., (sqrt(2)*widths)...),(10,10))\n",
    "r=map(-π:π/18.0:π) do θ\n",
    "    afm=inv(AffineMap(Angle2d{Float32}(θ), center))\n",
    "    dm=densitymap(afm.(fd), Rect((-0.5*sqrt(2)*widths)..., (sqrt(2)*widths)...),(10,10))\n",
    "    sum(dm.*dm0)\n",
    "end\n",
    "θopt = (-π:π/18.0:π)[findmax(r)[2]]\n",
    "afmr=inv(AffineMap(Angle2d{Float32}(θopt), center))\n",
    "fdr=afmr.(fd);\n"
   ]
  },
  {
   "cell_type": "code",
   "execution_count": null,
   "metadata": {},
   "outputs": [],
   "source": [
    "plot(\n",
    "    layer(x=map(t->t[1], fd0), y=map(t->t[2], fd0), Geom.point, Theme(default_color=\"red\")),    \n",
    "    layer(x=map(t->t[1], fdr), y=map(t->t[2], fdr), Geom.point, Theme(default_color=\"blue\"))\n",
    ")"
   ]
  },
  {
   "cell_type": "markdown",
   "metadata": {},
   "source": [
    "The strategy will be to pick a rectangular region in one of the sets of points.  We will build a series of density maps of the region at over the full $2\\pi$ range of rotations.  We will make a density map of the second set of points.  We will take each map in the angle series and compute how well it matches at each offset in the second map.  The best offset/angle pair will become a candidate for optimization using the Iterative Closest Point algorithm."
   ]
  },
  {
   "cell_type": "code",
   "execution_count": null,
   "metadata": {},
   "outputs": [],
   "source": [
    "using NearestNeighbors\n",
    "kdt=KDTree(fd0)"
   ]
  },
  {
   "cell_type": "code",
   "execution_count": null,
   "metadata": {},
   "outputs": [],
   "source": [
    "rr=knn(kdt, fdr, 1)"
   ]
  },
  {
   "cell_type": "code",
   "execution_count": null,
   "metadata": {},
   "outputs": [],
   "source": [
    "plot(\n",
    "    layer(x=map(t->t[1], fd0), y=map(t->t[2], fd0), color=map(r->r[1],rr[1]) .== 1:251, Geom.point),    \n",
    "    layer(x=map(t->t[1], fdr), y=map(t->t[2], fdr), Geom.point, Theme(default_color=\"blue\"))\n",
    ")"
   ]
  },
  {
   "cell_type": "code",
   "execution_count": null,
   "metadata": {},
   "outputs": [],
   "source": [
    "kdt=KDTree(xy)\n",
    "nn2=knn(kdt,xy,2)\n",
    "mean(n->n[1],nn2[2])"
   ]
  },
  {
   "cell_type": "code",
   "execution_count": null,
   "metadata": {},
   "outputs": [],
   "source": []
  }
 ],
 "metadata": {
  "kernelspec": {
   "display_name": "Julia 1.7.1",
   "language": "julia",
   "name": "julia-1.7"
  },
  "language_info": {
   "file_extension": ".jl",
   "mimetype": "application/julia",
   "name": "julia",
   "version": "1.7.1"
  },
  "orig_nbformat": 4
 },
 "nbformat": 4,
 "nbformat_minor": 2
}
