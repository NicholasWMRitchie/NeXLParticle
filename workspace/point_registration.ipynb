{
 "cells": [
  {
   "cell_type": "code",
   "execution_count": null,
   "metadata": {},
   "outputs": [],
   "source": [
    "using Random\n",
    "using CoordinateTransformations, Rotations\n",
    "using StaticArrays\n",
    "using Gadfly\n",
    "using Statistics\n",
    "using NearestNeighbors\n",
    "using LinearAlgebra"
   ]
  },
  {
   "cell_type": "markdown",
   "metadata": {},
   "source": [
    "Let's create a random 2D data set to represent points on a plane."
   ]
  },
  {
   "cell_type": "code",
   "execution_count": null,
   "metadata": {},
   "outputs": [],
   "source": [
    "r = MersenneTwister(0xBADFEED)\n",
    "npts = 100\n",
    "xy = SVector.(zip(rand(r, npts), rand(r, npts)))"
   ]
  },
  {
   "cell_type": "markdown",
   "metadata": {},
   "source": [
    "Now we are going to muddle this dataset by translating, rotating, adding a small random component and shuffling the data."
   ]
  },
  {
   "cell_type": "code",
   "execution_count": null,
   "metadata": {},
   "outputs": [],
   "source": [
    "xyp = AffineMap(Angle2d{Float64}(deg2rad(1.2)), [0.1, -0.1]).(xy) .+ 0.02 * SVector.(collect(zip(0.5 .- rand(r, npts), 0.5 .- rand(r, npts))))\n",
    "ro = shuffle(1:100)  # Use this to reorder the points\n",
    "xyps = xyp[ro]"
   ]
  },
  {
   "cell_type": "markdown",
   "metadata": {},
   "source": [
    "Let's take a look at the result (red->original points, blue->muddled points)"
   ]
  },
  {
   "cell_type": "code",
   "execution_count": null,
   "metadata": {},
   "outputs": [],
   "source": [
    "set_default_plot_size(6inch, 10inch)\n",
    "vstack(plot(\n",
    "        layer(x = map(p -> p[1], xy), y = map(p -> p[2], xy), Geom.point, Gadfly.Theme(default_color = \"red\")),\n",
    "        layer(x = map(p -> p[1], xyps), y = map(p -> p[2], xyps), Geom.point, Gadfly.Theme(default_color = \"blue\")),\n",
    "    ),\n",
    "    plot(\n",
    "        layer(x = map(p -> p[1], xy[ro]), y = map(p -> p[2], xy[ro]), color = 1:100, Geom.point, Gadfly.Theme(default_color = \"red\")),\n",
    "        layer(x = map(p -> p[1], xyps), y = map(p -> p[2], xyps), color = 1:100, Geom.point, Gadfly.Theme(default_color = \"blue\")),\n",
    "    ))"
   ]
  },
  {
   "cell_type": "markdown",
   "metadata": {},
   "source": [
    "We will start to restore the muddled points by centering the muddled points on the original points.\n",
    "We calculate the center of mass for each set of points and translate the muddled points by the difference in center of mass."
   ]
  },
  {
   "cell_type": "code",
   "execution_count": null,
   "metadata": {},
   "outputs": [],
   "source": [
    "centerofmass(pts) = [mean(p -> p[1], pts), mean(p -> p[2], pts)]\n",
    "xypst = Translation(centerofmass(xy) - centerofmass(xyps)).(xyps)"
   ]
  },
  {
   "cell_type": "markdown",
   "metadata": {},
   "source": [
    "This brings the points into better registration but there remains the shuffle and the rotation to deal with."
   ]
  },
  {
   "cell_type": "code",
   "execution_count": null,
   "metadata": {},
   "outputs": [],
   "source": [
    "set_default_plot_size(6inch, 10inch)\n",
    "vstack(\n",
    "    plot(\n",
    "        layer(x = map(p -> p[1], xy), y = map(p -> p[2], xy), Geom.point, Gadfly.Theme(default_color = \"red\")),\n",
    "        layer(x = map(p -> p[1], xypst), y = map(p -> p[2], xypst), Geom.point, Gadfly.Theme(default_color = \"blue\")),\n",
    "        Coord.cartesian(xmin = 0.0, xmax = 1.0, ymin = 0.0, ymax = 1.0)\n",
    "    ),\n",
    "    plot(\n",
    "        layer(x = map(p -> p[1], xy[ro]), y = map(p -> p[2], xy[ro]), color = 1:100, Geom.point, Gadfly.Theme(default_color = \"red\")),\n",
    "        layer(x = map(p -> p[1], xypst), y = map(p -> p[2], xypst), color = 1:100, Geom.point, Gadfly.Theme(default_color = \"blue\")),\n",
    "        Coord.cartesian(xmin = 0.0, xmax = 1.0, ymin = 0.0, ymax = 1.0)\n",
    "    )\n",
    ")"
   ]
  },
  {
   "cell_type": "markdown",
   "metadata": {},
   "source": [
    "We will use a KDTree nearest-neighbor algorithm to identify which point in `xy` is closest to each point in the muddled data.\n",
    "Find the closest neighbor for each particle in `xypt` to `xy`.  Then reorder `xypt` to align each point with its closest matching point in `xy`."
   ]
  },
  {
   "cell_type": "code",
   "execution_count": null,
   "metadata": {},
   "outputs": [],
   "source": [
    "tr = KDTree(xypst)\n",
    "i_knn = @time collect(Iterators.flatten(knn(tr, xy, 1)[1]))\n",
    "xypstr = xypst[i_knn]\n",
    "@show xy[1:10]\n",
    "@show xypstr[1:10];"
   ]
  },
  {
   "cell_type": "markdown",
   "metadata": {},
   "source": [
    "Now the muddled data and the original data are back in roughtly the same order."
   ]
  },
  {
   "cell_type": "code",
   "execution_count": null,
   "metadata": {},
   "outputs": [],
   "source": [
    "set_default_plot_size(6inch, 4inch)\n",
    "plot(\n",
    "    layer(x = map(p -> p[1], xy), y = map(p -> p[2], xy), color = 1:100, Geom.point, Gadfly.Theme(default_color = \"red\")),\n",
    "    layer(x = map(p -> p[1], xypstr), y = map(p -> p[2], xypstr), color = 1:100, Geom.point, Gadfly.Theme(default_color = \"blue\")),\n",
    "    Coord.cartesian(xmin = 0.0, xmax = 1.0, ymin = 0.0, ymax = 1.0)\n",
    ")"
   ]
  },
  {
   "cell_type": "markdown",
   "metadata": {},
   "source": [
    "Now we apply the solution to the \"orthogonal procrustes problem\" to determine the rotation that will bring the muddled data back in alignment with the original data."
   ]
  },
  {
   "cell_type": "code",
   "execution_count": null,
   "metadata": {},
   "outputs": [],
   "source": [
    "m2(vs) = transpose(reshape(collect(Iterators.flatten(vs)), 2, 100))\n",
    "f = svd(m2(xy) * transpose(m2(xypstr)))\n",
    "Ω = f.U * f.Vt\n",
    "res = Ω * m2(xypstr)"
   ]
  },
  {
   "cell_type": "markdown",
   "metadata": {},
   "source": [
    "Which brings the points back into alignment...  Usually, it is necessary to iterate the nearest neighbor and orthogonal crustes steps to produce the best solution. "
   ]
  },
  {
   "cell_type": "code",
   "execution_count": null,
   "metadata": {},
   "outputs": [],
   "source": [
    "plot(\n",
    "    layer(x = map(p -> p[1], xy), y = map(p -> p[2], xy), Geom.point, Gadfly.Theme(default_color = \"red\")),\n",
    "    layer(x = res[:, 1], y = res[:, 2], Geom.point, Gadfly.Theme(default_color = \"blue\")),\n",
    "    Coord.cartesian(xmin = 0.0, xmax = 1.0, ymin = 0.0, ymax = 1.0)\n",
    ")"
   ]
  },
  {
   "cell_type": "code",
   "execution_count": null,
   "metadata": {},
   "outputs": [],
   "source": [
    "plot(x = map(p -> p[1], xy) - res[:, 1], y = map(p -> p[2], xy) - res[:, 2], Geom.point, Gadfly.Theme(default_color = \"red\"))"
   ]
  },
  {
   "cell_type": "markdown",
   "metadata": {},
   "source": [
    "Problems with this algorithm.\n",
    "1) Isn't likely to converge to the correct answer when the rotation is large.\n",
    "2) Works best when the point sets have a one-to-one point correspondence (or nearly one-to-one)"
   ]
  },
  {
   "cell_type": "code",
   "execution_count": null,
   "metadata": {},
   "outputs": [],
   "source": [
    "centerofmass(pts::AbstractVector{T}) where { T <: AbstractVector{<:AbstractFloat} } = #\n",
    "    [mean(p -> p[i], pts) for i in 1:length(pts[1])]\n",
    "\n",
    "\"\"\"\n",
    "    icp_iteration(pts1::AbstractVector{<:AbstractVector{2, T}}, pts2::AbstractVector{<:AbstractVector{2, T}}; orthonormal=false) where { T<: AbstractFloat }\n",
    "\n",
    "Perform a single iteration of the iterative closest point algorithm using the orthogonal Procrustes algorithm.\n",
    "\n",
    "Returns the orthogonal matrix Ω such that Ω⋅pts2 ≈ pts1.  If `orthonormal=true` then Ω is converted to the orthonormal rotation matrix. \n",
    "\"\"\"\n",
    "function icp_iteration(pts1::AbstractVector{T}, pts2::AbstractVector{T}; orthonormal = false) where { T <: AbstractVector{<:AbstractFloat}}\n",
    "    # Center both pts1 and pts2 on the origin\n",
    "    com1, com2 = centerofmass(pts1), centerofmass(pts2)\n",
    "    pts1c, pts2c = Translation(-com1).(pts1), Translation(-com2).(pts2)\n",
    "    # Find the nearest neighbors for pts2c in pts1c\n",
    "    tr = KDTree(pts2c)\n",
    "    i_knn = collect(Iterators.flatten(knn(tr, pts1c, 1)[1]))\n",
    "    # Reorder pts2c to best correspond to pts1's order\n",
    "    pts2cr = pts2c[i_knn]\n",
    "    # Turn Vector{Vector{<:AbstractFloat}} into Matrix{<:AbstractFloat}\n",
    "    m2(vs) = transpose(reshape(collect(Iterators.flatten(vs)), length(vs[1]), length(vs)))\n",
    "    # Solve the orthogonal Procrustes problem\n",
    "    f = svd(m2(pts1c) * transpose(m2(pts2cr)))\n",
    "    Ω = f.U * f.Vt\n",
    "    if orthonormal\n",
    "        # Convert the orthogonal matrix into an orthonormal rotation matrix\n",
    "        Σp = ones(eltype(f.S), length(f.S))\n",
    "        Σp[findmin(f.S)[2]] = det(Ω)\n",
    "        Ω = f.U * Diagonal(Σp) * f.Vt\n",
    "    end\n",
    "    return Translation(com1).(Ω * pts2cr)\n",
    "end"
   ]
  },
  {
   "cell_type": "code",
   "execution_count": null,
   "metadata": {},
   "outputs": [],
   "source": [
    "res = icp_iteration(xy, xyps, orthonormal = false)\n",
    "@show res[1:5]\n",
    "@show xy[1:5];"
   ]
  },
  {
   "cell_type": "code",
   "execution_count": null,
   "metadata": {},
   "outputs": [],
   "source": [
    "plot(x = map(p -> p[1], xy) - map(p -> p[1], res), y = map(p -> p[2], xy) - map(p -> p[2], res), Geom.point, Gadfly.Theme(default_color = \"red\"))"
   ]
  },
  {
   "cell_type": "code",
   "execution_count": null,
   "metadata": {},
   "outputs": [],
   "source": [
    "res2 = icp_iteration(xy, res, orthonormal = false)\n",
    "plot(x = map(p -> p[1], xy) - map(p -> p[1], res2), y = map(p -> p[2], xy) - map(p -> p[2], res2), Geom.point, Gadfly.Theme(default_color = \"red\"))"
   ]
  },
  {
   "cell_type": "code",
   "execution_count": null,
   "metadata": {},
   "outputs": [],
   "source": [
    "function icp(pts1::AbstractVector{T}, pts2::AbstractVector{T}; maxiter=10, tol=0.9) where { T <: AbstractVector{<:AbstractFloat}}\n",
    "    function err(pts1, pts2)\n",
    "        # Associate each point in pts2 with the closest point in pts1 \n",
    "        pts2r = pts2[collect(Iterators.flatten(knn(KDTree(pts2), pts1, 1)[1]))]\n",
    "        # Compute the sum Euclidean distance\n",
    "        sum(norm(p1 - p2) for (p1, p2) in zip(pts1, pts2r))\n",
    "    end\n",
    "    preverror, next = err(pts1, pts2), pts2\n",
    "    for _ in 1:maxiter\n",
    "        next = icp_iteration(pts1, next)\n",
    "        nexterror = err(pts1, next)\n",
    "        if nexterror > tol*preverror\n",
    "            return next\n",
    "        end\n",
    "        preverror = nexterror\n",
    "    end\n",
    "    @warn \"Not converging after $maxiter steps in icp(...).\"\n",
    "    return next\n",
    "end"
   ]
  },
  {
   "cell_type": "code",
   "execution_count": null,
   "metadata": {},
   "outputs": [],
   "source": [
    "res3 = @time icp(xy, xyps, tol=0.999)\n",
    "plot(x = map(p -> p[1], xy) - map(p -> p[1], res3), y = map(p -> p[2], xy) - map(p -> p[2], res3), Geom.point, Gadfly.Theme(default_color = \"red\"))\n"
   ]
  },
  {
   "cell_type": "code",
   "execution_count": null,
   "metadata": {},
   "outputs": [],
   "source": []
  }
 ],
 "metadata": {
  "kernelspec": {
   "display_name": "Julia 1.7.1",
   "language": "julia",
   "name": "julia-1.7"
  },
  "language_info": {
   "file_extension": ".jl",
   "mimetype": "application/julia",
   "name": "julia",
   "version": "1.7.1"
  },
  "orig_nbformat": 4
 },
 "nbformat": 4,
 "nbformat_minor": 2
}
